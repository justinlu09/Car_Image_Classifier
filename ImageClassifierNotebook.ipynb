{
 "cells": [
  {
   "cell_type": "markdown",
   "metadata": {},
   "source": [
    "# Automobile Classification via Neural Networks"
   ]
  },
  {
   "cell_type": "markdown",
   "metadata": {},
   "source": [
    "### Introduction\n",
    "The development of autonomous vehicles, colloquially referred to as self-driving cars, requires solutions that address a wide array of tasks, for example, traffic sign recognition, motor adjustments according to weather changes, object detection/recognition, etc. The current market offers semi-autonomous vehicles that can be legally purchased and operated, but a truely autonomous car (e.g. one that can equal or outperform a human drive in standard driving procedures) has yet to be developed. Fundamentally, human cognition, which is what artificial intelligence aims to replicate, is not fully understood. To build a truly intelligent, self driving vehicle is to solve a plethora of computer vision and artificial intelligence tasks, which themselves entail smaller sub-tasks. The aim of this project is to develop a machine/deep learning model to perform classification tasks. Specifically, neural networks will developed to classify images of vehicles by car model and make. "
   ]
  },
  {
   "cell_type": "markdown",
   "metadata": {},
   "source": [
    "### Baseline Model\n",
    "As per standard procedure, we start with a baseline model to calculate a metric we want future iterations to surpass. This model loads images that have been transformed via downsizing by a factor of 4 into a neural net. "
   ]
  },
  {
   "cell_type": "code",
   "execution_count": 1,
   "metadata": {},
   "outputs": [],
   "source": [
    "import os\n",
    "from skimage import io\n",
    "from skimage.io import imread\n",
    "from skimage.transform import resize\n",
    "import time\n",
    "import sys\n",
    "from matplotlib import pyplot as plt"
   ]
  },
  {
   "cell_type": "code",
   "execution_count": 2,
   "metadata": {},
   "outputs": [],
   "source": [
    "def create_training_data(resize_factor):\n",
    "    train_data_list = []\n",
    "    idx = 0\n",
    "    train_dir = os.path.join('data', 'cars_train')\n",
    "    for category in os.listdir(train_dir):\n",
    "        path = os.path.join(train_dir, category)\n",
    "        for car_img in os.listdir(path):\n",
    "            try:\n",
    "                img_arr = imread(os.path.join(path, car_img))\n",
    "                resized_img = resize(img_arr, (img_arr.shape[0]//resize_factor, img_arr.shape[1]//resize_factor))\n",
    "                train_data_list.append((resized_img, idx))\n",
    "            except Exception as e:\n",
    "                pass\n",
    "        idx += 1\n",
    "    return train_data_list"
   ]
  },
  {
   "cell_type": "code",
   "execution_count": 3,
   "metadata": {
    "scrolled": true
   },
   "outputs": [],
   "source": [
    "SIZE = 4\n",
    "train_data = create_training_data(SIZE)"
   ]
  },
  {
   "cell_type": "code",
   "execution_count": null,
   "metadata": {},
   "outputs": [],
   "source": []
  },
  {
   "cell_type": "code",
   "execution_count": null,
   "metadata": {},
   "outputs": [],
   "source": []
  },
  {
   "cell_type": "code",
   "execution_count": null,
   "metadata": {},
   "outputs": [],
   "source": []
  },
  {
   "cell_type": "code",
   "execution_count": null,
   "metadata": {},
   "outputs": [],
   "source": []
  },
  {
   "cell_type": "code",
   "execution_count": null,
   "metadata": {},
   "outputs": [],
   "source": []
  },
  {
   "cell_type": "code",
   "execution_count": null,
   "metadata": {},
   "outputs": [],
   "source": []
  },
  {
   "cell_type": "markdown",
   "metadata": {},
   "source": [
    "# SCRATCH WORK"
   ]
  },
  {
   "cell_type": "code",
   "execution_count": null,
   "metadata": {},
   "outputs": [],
   "source": [
    "train_data_list = []\n",
    "os.listdir(path)\n",
    "for car_img in os.listdir(path):\n",
    "    try:\n",
    "        img_arr = imread(os.path.join(path, car_img))\n",
    "        resized_img = resize(img_arr, (img_arr.shape[0]//4, img_arr.shape[1]//4))\n",
    "        train_data_list.append((resized_img, 0))\n",
    "    except Exception as e:\n",
    "        pass\n",
    "\n",
    "\n",
    "print(sys.getsizeof(train_data_list[0][0]))\n",
    "io.imshow(train_data_list[2][0])\n",
    "plt.show()"
   ]
  },
  {
   "cell_type": "markdown",
   "metadata": {},
   "source": [
    "### Model Fairness Evaluation\n",
    "Fairness evaluation, or parity measure, tells us the performance of the model between different subsets of the data. Specifically, we want to investigate if the model performs better on certain groups, for example Hondas vs. Toyotas, or red cars vs. blue cars."
   ]
  },
  {
   "cell_type": "markdown",
   "metadata": {},
   "source": [
    "### References"
   ]
  },
  {
   "cell_type": "markdown",
   "metadata": {},
   "source": [
    "**3D Object Representations for Fine-Grained Categorization** <br>\n",
    "Jonathan Krause, Michael Stark, Jia Deng, Li Fei-Fei <br>\n",
    "*4th IEEE Workshop on 3D Representation and Recognition, at ICCV 2013* **(3dRR-13)**. Sydney, Australia. Dec. 8, 2013.\n",
    "https://ai.stanford.edu/~jkrause/papers/3drr13.pdf"
   ]
  }
 ],
 "metadata": {
  "kernelspec": {
   "display_name": "Python 3",
   "language": "python",
   "name": "python3"
  },
  "language_info": {
   "codemirror_mode": {
    "name": "ipython",
    "version": 3
   },
   "file_extension": ".py",
   "mimetype": "text/x-python",
   "name": "python",
   "nbconvert_exporter": "python",
   "pygments_lexer": "ipython3",
   "version": "3.6.2"
  }
 },
 "nbformat": 4,
 "nbformat_minor": 2
}
